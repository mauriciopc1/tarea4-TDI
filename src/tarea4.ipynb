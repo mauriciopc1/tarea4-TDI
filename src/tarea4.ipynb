{
 "metadata": {
  "language_info": {
   "codemirror_mode": {
    "name": "ipython",
    "version": 3
   },
   "file_extension": ".py",
   "mimetype": "text/x-python",
   "name": "python",
   "nbconvert_exporter": "python",
   "pygments_lexer": "ipython3",
   "version": "3.7.9"
  },
  "orig_nbformat": 4,
  "kernelspec": {
   "name": "python3",
   "display_name": "Python 3.7.9 64-bit"
  },
  "interpreter": {
   "hash": "a7c02aa69de94215dc62fa63be9f4307c62507c036bad9ac4e2d52247e6ded0f"
  }
 },
 "nbformat": 4,
 "nbformat_minor": 2,
 "cells": [
  {
   "cell_type": "code",
   "execution_count": 86,
   "metadata": {},
   "outputs": [],
   "source": [
    "import xml.etree.ElementTree as ET \n",
    "import requests\n",
    "import pandas as pd\n",
    "import gspread\n",
    "from gspread_dataframe import set_with_dataframe"
   ]
  },
  {
   "cell_type": "code",
   "execution_count": 79,
   "metadata": {
    "tags": []
   },
   "outputs": [],
   "source": [
    "def xml_to_pd(country_list):\r\n",
    "    df_cols = [\r\n",
    "        'COUNTRY',\r\n",
    "        'GHO',\r\n",
    "        'SEX',\r\n",
    "        'YEAR',\r\n",
    "        'GHECAUSES',\r\n",
    "        'AGEGROUP',\r\n",
    "        'Display',\r\n",
    "        'Numeric',\r\n",
    "        'Low',\r\n",
    "        'High'\r\n",
    "    ]\r\n",
    "    df_rows = []\r\n",
    "    for country in country_list:\r\n",
    "        url = f'http://tarea-4.2021-1.tallerdeintegracion.cl/gho_{country}.xml'\r\n",
    "        r = requests.get(url)\r\n",
    "        tree = ET.fromstring(r.content)\r\n",
    "        for fact in tree.findall('Fact'):\r\n",
    "            data = [fact.find(col).text if fact.find(col) is not None else None for col in df_cols]\r\n",
    "            df_rows.append({df_cols[i]: data[i] for i, _ in enumerate(df_cols)})\r\n",
    "    out_df = pd.DataFrame(df_rows, columns=df_cols)\r\n",
    "    return out_df"
   ]
  },
  {
   "cell_type": "code",
   "execution_count": 80,
   "metadata": {},
   "outputs": [],
   "source": [
    "country_list = [\n",
    "    \"AND\",\n",
    "    \"JAM\",\n",
    "    \"CHL\",\n",
    "    \"ESP\",\n",
    "    \"ARG\",\n",
    "    \"FRA\",\n",
    "]\n",
    "df = xml_to_pd(country_list)"
   ]
  },
  {
   "cell_type": "code",
   "execution_count": 101,
   "metadata": {},
   "outputs": [],
   "source": [
    "gc = gspread.service_account(filename='tarea4-tdi-316808-bd39d54c91d0.json')\n",
    "sh = gc.open_by_key('1yccee3i81FCF1U4GHS0GswEzllfp0KH_epzRxS4A9qc')\n",
    "worksheet = sh.get_worksheet(0)"
   ]
  },
  {
   "cell_type": "code",
   "execution_count": 100,
   "metadata": {},
   "outputs": [],
   "source": [
    "set_with_dataframe(worksheet, df)"
   ]
  },
  {
   "cell_type": "code",
   "execution_count": 52,
   "metadata": {},
   "outputs": [],
   "source": [
    "indicadores = [\n",
    "    \"Number of deaths\",\n",
    "    \"Number of infant deaths\",\n",
    "    \"Number of under-five deaths\",\n",
    "    \"Mortality rate for 5-14 year-olds (probability of dying per 1000 children aged 5-14 years)\"\n",
    "]"
   ]
  }
 ]
}